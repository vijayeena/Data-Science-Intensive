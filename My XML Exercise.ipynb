{
 "cells": [
  {
   "cell_type": "code",
   "execution_count": 2,
   "metadata": {
    "collapsed": false
   },
   "outputs": [],
   "source": [
    "import xml.etree.ElementTree as ET"
   ]
  },
  {
   "cell_type": "code",
   "execution_count": 16,
   "metadata": {
    "collapsed": false
   },
   "outputs": [],
   "source": [
    "tree = ET.parse('./data/mondial_database_less.xml')"
   ]
  },
  {
   "cell_type": "code",
   "execution_count": 19,
   "metadata": {
    "collapsed": false,
    "scrolled": true
   },
   "outputs": [
    {
     "data": {
      "text/plain": [
       "'mondial'"
      ]
     },
     "execution_count": 19,
     "metadata": {},
     "output_type": "execute_result"
    }
   ],
   "source": [
    "root = tree.getroot()\n",
    "root.tag"
   ]
  },
  {
   "cell_type": "code",
   "execution_count": 21,
   "metadata": {
    "collapsed": true
   },
   "outputs": [
    {
     "name": "stdout",
     "output_type": "stream",
     "text": [
      "country {'car_code': 'AL', 'capital': 'cty-Albania-Tirane', 'memberships': 'org-BSEC org-CEI org-CD org-SELEC org-CE org-EAPC org-EBRD org-EITI org-FAO org-IPU org-IAEA org-IBRD org-ICC org-ICAO org-ICCt org-Interpol org-IDA org-IFRCS org-IFC org-IFAD org-ILO org-IMO org-IMF org-IOC org-IOM org-ISO org-OIF org-ITU org-ITUC org-IDB org-MIGA org-NATO org-OSCE org-OPCW org-OAS org-OIC org-PCA org-UN org-UNCTAD org-UNESCO org-UNIDO org-UPU org-WCO org-WFTU org-WHO org-WIPO org-WMO org-UNWTO org-WTO', 'area': '28750'}\n",
      "country {'car_code': 'GR', 'capital': 'cty-Greece-Athens', 'memberships': 'org-AG org-BIS org-BSEC org-CD org-SELEC org-CE org-EMU org-EAPC org-EBRD org-ECB org-EIB org-CERN org-ESA org-EU org-FATF org-FAO org-IGAD org-IPU org-IAEA org-IBRD org-ICC org-ICAO org-ICJ org-ICCt org-Interpol org-IDA org-IEA org-IFRCS org-IFC org-IFAD org-IHO org-ILO org-IMO org-IMSO org-IMF org-IOC org-IOM org-OIF org-ITSO org-ITU org-ITUC org-MIGA org-NATO org-NEA org-NSG org-OECD org-OSCE org-OPCW org-OAS org-PCA org-UN org-UNCTAD org-UNESCO org-UNHCR org-UNIDO org-UNIFIL org-UPU org-WCO org-WFTU org-WHO org-WIPO org-WMO org-UNWTO org-WTO org-ZC', 'area': '131940'}\n",
      "country {'car_code': 'MK', 'capital': 'cty-Macedonia-Skopje', 'memberships': 'org-BIS org-CEI org-CD org-SELEC org-CE org-EAPC org-EBRD org-EU org-FAO org-IPU org-IAEA org-IBRD org-ICC org-ICAO org-ICCt org-Interpol org-IDA org-IFRCS org-IFC org-IFAD org-ILO org-IMO org-IMF org-IOC org-IOM org-OIF org-ITU org-ITUC org-MIGA org-OSCE org-OPCW org-OAS org-PFP org-PCA org-UN org-UNCTAD org-UNESCO org-UNHCR org-UNIDO org-UNIFIL org-UPU org-WCO org-WHO org-WIPO org-WMO org-UNWTO org-WTO', 'area': '25333'}\n",
      "country {'car_code': 'SRB', 'capital': 'city-Belgrade-SRB-SRB', 'memberships': 'org-BIS org-BSEC org-CEI org-CD org-SELEC org-CE org-EAPC org-EBRD org-EU org-FAO org-G-9 org-IPU org-IAEA org-IBRD org-ICC org-ICAO org-ICCt org-Interpol org-IDA org-IFRCS org-IFC org-IHO org-ILO org-IMO org-IMSO org-IMF org-IOC org-IOM org-OIF org-ITSO org-ITU org-ITUC org-MIGA org-NAM org-NSG org-OSCE org-OPCW org-OAS org-PFP org-PCA org-UN org-UNCTAD org-UNESCO org-UNHCR org-UNIDO org-UNIFIL org-UNMIL org-UNOCI org-MONUSCO org-UNFICYP org-UNTSO org-UPU org-WCO org-WHO org-WIPO org-WMO org-UNWTO org-WTO', 'area': '77474'}\n",
      "country {'car_code': 'MNE', 'capital': 'city-Podgorica-MNE-MNE', 'memberships': 'org-CEI org-CD org-SELEC org-CE org-EAPC org-EBRD org-EU org-FAO org-IPU org-IAEA org-IBRD org-ICC org-ICAO org-ICCt org-Interpol org-IDA org-IFRCS org-IFC org-IHO org-ILO org-IMO org-IMSO org-IMF org-IOC org-IOM org-ISO org-OIF org-ITSO org-ITU org-ITUC org-MIGA org-NAM org-OSCE org-OPCW org-PFP org-PCA org-UN org-UNCTAD org-UNESCO org-UNHCR org-UNIDO org-UNMIL org-UPU org-WCO org-WHO org-WIPO org-WMO org-UNWTO org-WTO', 'area': '14026'}\n",
      "country {'car_code': 'KOS', 'capital': 'city-Pristina-KOS-KOS', 'memberships': 'org-CD org-EBRD org-IBRD org-IDA org-IFC org-IMF org-ITUC', 'area': '10887'}\n",
      "country {'car_code': 'AND', 'capital': 'cty-Andorra-Andorra-la-Vella', 'memberships': 'org-CE org-FAO org-IPU org-ICC org-ICAO org-ICCt org-Interpol org-IFRCS org-IOC org-OIF org-ITU org-OSCE org-OPCW org-UN org-UNCTAD org-UNESCO org-WCO org-WHO org-WIPO org-UNWTO org-WTO', 'area': '450'}\n"
     ]
    }
   ],
   "source": [
    "for child in root:\n",
    "    print(child.tag, child.attrib)"
   ]
  },
  {
   "cell_type": "code",
   "execution_count": 47,
   "metadata": {
    "collapsed": false
   },
   "outputs": [
    {
     "data": {
      "text/plain": [
       "'Greece'"
      ]
     },
     "execution_count": 47,
     "metadata": {},
     "output_type": "execute_result"
    }
   ],
   "source": [
    "root[1][0].text"
   ]
  },
  {
   "cell_type": "code",
   "execution_count": 67,
   "metadata": {
    "collapsed": false
   },
   "outputs": [
    {
     "name": "stdout",
     "output_type": "stream",
     "text": [
      "{'infant_mortality': ['13.19', '4.78', '7.9', '6.16', '', '', '3.69'], 'country': ['Albania', 'Greece', 'Macedonia', 'Serbia', 'Montenegro', 'Kosovo', 'Andorra']}\n"
     ]
    }
   ],
   "source": [
    "data = {'country':[],'infant_mortality': []}\n",
    "for element in root.iterfind('country'):\n",
    "    #get name and infant mortality of all countries\n",
    "    country = element.find('name')\n",
    "    mortality = element.find('infant_mortality')\n",
    "    data['country'].append(country.text)\n",
    "        \n",
    "    if mortality is not None:\n",
    "        data['infant_mortality'].append(mortality.text)\n",
    "    else:\n",
    "        data['infant_mortality'].append('')\n",
    "        \n",
    "print(data)"
   ]
  },
  {
   "cell_type": "code",
   "execution_count": 69,
   "metadata": {
    "collapsed": true
   },
   "outputs": [],
   "source": [
    "import pandas as pd\n",
    "import numpy as np"
   ]
  },
  {
   "cell_type": "code",
   "execution_count": 106,
   "metadata": {
    "collapsed": false
   },
   "outputs": [
    {
     "data": {
      "text/html": [
       "<div>\n",
       "<table border=\"1\" class=\"dataframe\">\n",
       "  <thead>\n",
       "    <tr style=\"text-align: right;\">\n",
       "      <th></th>\n",
       "      <th>country</th>\n",
       "      <th>infant_mortality</th>\n",
       "    </tr>\n",
       "  </thead>\n",
       "  <tbody>\n",
       "    <tr>\n",
       "      <th>6</th>\n",
       "      <td>Andorra</td>\n",
       "      <td>3.69</td>\n",
       "    </tr>\n",
       "    <tr>\n",
       "      <th>1</th>\n",
       "      <td>Greece</td>\n",
       "      <td>4.78</td>\n",
       "    </tr>\n",
       "    <tr>\n",
       "      <th>3</th>\n",
       "      <td>Serbia</td>\n",
       "      <td>6.16</td>\n",
       "    </tr>\n",
       "    <tr>\n",
       "      <th>2</th>\n",
       "      <td>Macedonia</td>\n",
       "      <td>7.90</td>\n",
       "    </tr>\n",
       "    <tr>\n",
       "      <th>0</th>\n",
       "      <td>Albania</td>\n",
       "      <td>13.19</td>\n",
       "    </tr>\n",
       "  </tbody>\n",
       "</table>\n",
       "</div>"
      ],
      "text/plain": [
       "     country  infant_mortality\n",
       "6    Andorra              3.69\n",
       "1     Greece              4.78\n",
       "3     Serbia              6.16\n",
       "2  Macedonia              7.90\n",
       "0    Albania             13.19"
      ]
     },
     "execution_count": 106,
     "metadata": {},
     "output_type": "execute_result"
    }
   ],
   "source": [
    "# create a pandas dataframe from the data\n",
    "df = pd.DataFrame(data)\n",
    "\n",
    "# clean up countries with missing infant_mortality rates\n",
    "df = df.replace('',np.NaN)\n",
    "df[['infant_mortality']] = df[['infant_mortality']].astype(float)\n",
    "df.dtypes\n",
    "\n",
    "# find the 10 lowest infant mortality rates\n",
    "df = df.dropna().sort_values('infant_mortality')\n",
    "df"
   ]
  },
  {
   "cell_type": "code",
   "execution_count": 124,
   "metadata": {
    "collapsed": false,
    "scrolled": true
   },
   "outputs": [
    {
     "name": "stdout",
     "output_type": "stream",
     "text": [
      "Tirana\n",
      "Tirane\n",
      "192000 1987\n",
      "244153 1990\n",
      "418495 2011\n",
      "Shkodër\n",
      "62000 1987\n",
      "77075 2011\n",
      "Durrës\n",
      "60000 1987\n",
      "113249 2011\n",
      "Vlorë\n",
      "56000 1987\n",
      "79513 2011\n",
      "Elbasan\n",
      "53000 1987\n",
      "78703 2011\n",
      "Korçë\n",
      "52000 1987\n",
      "51152 2011\n",
      "Skopje\n",
      "506926 2002\n",
      "514967 2011\n",
      "Kumanovo\n",
      "105484 2002\n",
      "107745 2011\n",
      "Beograd\n",
      "1407073 1987\n",
      "1576124 2002\n",
      "1639121 2011\n",
      "Novi Sad\n",
      "299294 2002\n",
      "335701 2011\n",
      "Niš\n",
      "250518 2002\n",
      "257867 2011\n",
      "Podgorica\n",
      "136473 2003\n",
      "150977 2011\n",
      "Prishtine\n",
      "Pristina\n",
      "148090 1981\n",
      "199654 1991\n",
      "198214 2011\n",
      "Andorra la Vella\n",
      "15600 1987\n",
      "20787 2001\n",
      "22256 2011\n"
     ]
    }
   ],
   "source": [
    "data = {'country':[],'city': [], 'year':[], 'population':[]}\n",
    "\n",
    "for city in root.findall('country/city'):\n",
    "    #print(city.find('name').text)\n",
    "    for element in list(city):\n",
    "        if element.tag == 'name':\n",
    "            print(element.text)\n",
    "        elif element.tag == 'population':\n",
    "            population = element.text\n",
    "            year = element.attrib['year']\n",
    "            print(population,year)"
   ]
  },
  {
   "cell_type": "code",
   "execution_count": 126,
   "metadata": {
    "collapsed": false
   },
   "outputs": [
    {
     "data": {
      "text/html": [
       "<div>\n",
       "<table border=\"1\" class=\"dataframe\">\n",
       "  <thead>\n",
       "    <tr style=\"text-align: right;\">\n",
       "      <th></th>\n",
       "      <th>CityName</th>\n",
       "      <th>Population</th>\n",
       "    </tr>\n",
       "  </thead>\n",
       "  <tbody>\n",
       "    <tr>\n",
       "      <th>30</th>\n",
       "      <td>Beograd</td>\n",
       "      <td>1639121.0</td>\n",
       "    </tr>\n",
       "    <tr>\n",
       "      <th>8</th>\n",
       "      <td>Athina</td>\n",
       "      <td>664046.0</td>\n",
       "    </tr>\n",
       "    <tr>\n",
       "      <th>28</th>\n",
       "      <td>Skopje</td>\n",
       "      <td>514967.0</td>\n",
       "    </tr>\n",
       "    <tr>\n",
       "      <th>0</th>\n",
       "      <td>Tirana</td>\n",
       "      <td>418495.0</td>\n",
       "    </tr>\n",
       "    <tr>\n",
       "      <th>31</th>\n",
       "      <td>Novi Sad</td>\n",
       "      <td>335701.0</td>\n",
       "    </tr>\n",
       "    <tr>\n",
       "      <th>16</th>\n",
       "      <td>Thessaloniki</td>\n",
       "      <td>325182.0</td>\n",
       "    </tr>\n",
       "    <tr>\n",
       "      <th>32</th>\n",
       "      <td>Niš</td>\n",
       "      <td>257867.0</td>\n",
       "    </tr>\n",
       "    <tr>\n",
       "      <th>12</th>\n",
       "      <td>Patra</td>\n",
       "      <td>213984.0</td>\n",
       "    </tr>\n",
       "    <tr>\n",
       "      <th>13</th>\n",
       "      <td>Kozani</td>\n",
       "      <td>213984.0</td>\n",
       "    </tr>\n",
       "    <tr>\n",
       "      <th>34</th>\n",
       "      <td>Prishtine</td>\n",
       "      <td>198214.0</td>\n",
       "    </tr>\n",
       "  </tbody>\n",
       "</table>\n",
       "</div>"
      ],
      "text/plain": [
       "        CityName  Population\n",
       "30       Beograd   1639121.0\n",
       "8         Athina    664046.0\n",
       "28        Skopje    514967.0\n",
       "0         Tirana    418495.0\n",
       "31      Novi Sad    335701.0\n",
       "16  Thessaloniki    325182.0\n",
       "32           Niš    257867.0\n",
       "12         Patra    213984.0\n",
       "13        Kozani    213984.0\n",
       "34     Prishtine    198214.0"
      ]
     },
     "execution_count": 126,
     "metadata": {},
     "output_type": "execute_result"
    }
   ],
   "source": [
    "# 2. 10 cities with the largest population\n",
    "cityname = \"\"\n",
    "citypopulation = \"\"\n",
    "document = ET.parse( './data/mondial_database_less.xml' )\n",
    "df = pd.DataFrame(columns=['CityName','Population']) #create data frame to hold country name and its popuplation\n",
    "df['Population'] = df['Population'].astype(float)\n",
    "\n",
    "#loop through country element to find city name and its population\n",
    "for country in document.iterfind( 'country' ):\n",
    "    for city in country.iter('city'): #find all cities within each country element\n",
    "        cityname = city.find('name').text\n",
    "        year = int(0)\n",
    "        for node in city.iterfind('population'): #find all population elements with each city\n",
    "            year = node.attrib['year'] #there are multiple population elements with different 'year' attribute\n",
    "            if node.attrib['year'] >= year: #store the population number of the latest year\n",
    "                citypopulation = int(node.text)\n",
    "        df.loc[len(df)] = [cityname,citypopulation] #add city name and its population to data frame\n",
    "        cityname = \"\"\n",
    "        \n",
    "\n",
    "#sort data frame to find 10 cities with largest population\n",
    "df.sort_values(by = 'Population', ascending=False).head(10)"
   ]
  },
  {
   "cell_type": "code",
   "execution_count": 127,
   "metadata": {
    "collapsed": false
   },
   "outputs": [
    {
     "data": {
      "text/html": [
       "<div>\n",
       "<table border=\"1\" class=\"dataframe\">\n",
       "  <thead>\n",
       "    <tr style=\"text-align: right;\">\n",
       "      <th></th>\n",
       "      <th>Population</th>\n",
       "    </tr>\n",
       "    <tr>\n",
       "      <th>EthnicGroup</th>\n",
       "      <th></th>\n",
       "    </tr>\n",
       "  </thead>\n",
       "  <tbody>\n",
       "    <tr>\n",
       "      <th>Greek</th>\n",
       "      <td>10143150.0</td>\n",
       "    </tr>\n",
       "    <tr>\n",
       "      <th>Serb</th>\n",
       "      <td>6138517.0</td>\n",
       "    </tr>\n",
       "    <tr>\n",
       "      <th>Albanian</th>\n",
       "      <td>4805362.0</td>\n",
       "    </tr>\n",
       "    <tr>\n",
       "      <th>Macedonian</th>\n",
       "      <td>1322388.0</td>\n",
       "    </tr>\n",
       "    <tr>\n",
       "      <th>Montenegrin</th>\n",
       "      <td>330698.0</td>\n",
       "    </tr>\n",
       "    <tr>\n",
       "      <th>Hungarian</th>\n",
       "      <td>277706.0</td>\n",
       "    </tr>\n",
       "    <tr>\n",
       "      <th>Bosniak</th>\n",
       "      <td>177774.0</td>\n",
       "    </tr>\n",
       "    <tr>\n",
       "      <th>Roma</th>\n",
       "      <td>99689.0</td>\n",
       "    </tr>\n",
       "    <tr>\n",
       "      <th>Serbian</th>\n",
       "      <td>86694.0</td>\n",
       "    </tr>\n",
       "    <tr>\n",
       "      <th>Turkish</th>\n",
       "      <td>80332.0</td>\n",
       "    </tr>\n",
       "  </tbody>\n",
       "</table>\n",
       "</div>"
      ],
      "text/plain": [
       "             Population\n",
       "EthnicGroup            \n",
       "Greek        10143150.0\n",
       "Serb          6138517.0\n",
       "Albanian      4805362.0\n",
       "Macedonian    1322388.0\n",
       "Montenegrin    330698.0\n",
       "Hungarian      277706.0\n",
       "Bosniak        177774.0\n",
       "Roma            99689.0\n",
       "Serbian         86694.0\n",
       "Turkish         80332.0"
      ]
     },
     "execution_count": 127,
     "metadata": {},
     "output_type": "execute_result"
    }
   ],
   "source": [
    "# 3. 10 ethnic groups with the largest overall populations (sum of best/latest estimates over all countries)\n",
    "countryname = \"\"\n",
    "countrypopulation = 0\n",
    "ethnicpopulation = 0\n",
    "document = ET.parse( './data/mondial_database_less.xml' )\n",
    "df = pd.DataFrame(columns=['Country','EthnicGroup','Population'])\n",
    "df['Population'] = df['Population'].astype(float)\n",
    "\n",
    "#loop through country element to find ethnic groups and its population\n",
    "for country in document.iterfind( 'country' ):\n",
    "    countryname = country.find('name').text #find country name\n",
    "    year = int(0)\n",
    "    countrycpopulation = int(0)\n",
    "    for node in country.iterfind('population'): #find population of the country\n",
    "        year = node.attrib['year']\n",
    "        if node.attrib['year'] >= year: #find population of the latest year\n",
    "            countrypopulation = (node.text) \n",
    "    ethnicname = None\n",
    "    ethnicpopulation = 0\n",
    "    for ethnic in country.iter('ethnicgroup'): #find all ethnic groups within the same country\n",
    "        ethnicname = ethnic.text\n",
    "        #compute each ethnic population: country population * ethnic group percentage\n",
    "        ethnicpopulation = round(float(ethnic.attrib['percentage']) * 0.01 * int(countrypopulation))\n",
    "        if ethnicname == None:\n",
    "            ethnicname = countryname\n",
    "            ethnicpopulation = countrypopulation\n",
    "        df.loc[len(df)] = [countryname,ethnicname,ethnicpopulation] #store ethnic group population to data frame\n",
    "    countryname = \"\"\n",
    "\n",
    "#group ethnic group across all countries and sum them up to find top 10 ethnic groups and its total population\n",
    "df.groupby('EthnicGroup').sum().sort_values(by = 'Population', ascending=False).head(10)"
   ]
  },
  {
   "cell_type": "code",
   "execution_count": 136,
   "metadata": {
    "collapsed": false
   },
   "outputs": [
    {
     "data": {
      "text/html": [
       "<div>\n",
       "<table border=\"1\" class=\"dataframe\">\n",
       "  <thead>\n",
       "    <tr style=\"text-align: right;\">\n",
       "      <th></th>\n",
       "      <th>code</th>\n",
       "      <th>country</th>\n",
       "    </tr>\n",
       "  </thead>\n",
       "  <tbody>\n",
       "    <tr>\n",
       "      <th>0</th>\n",
       "      <td>AL</td>\n",
       "      <td>Albania</td>\n",
       "    </tr>\n",
       "    <tr>\n",
       "      <th>1</th>\n",
       "      <td>GR</td>\n",
       "      <td>Greece</td>\n",
       "    </tr>\n",
       "    <tr>\n",
       "      <th>2</th>\n",
       "      <td>MK</td>\n",
       "      <td>Macedonia</td>\n",
       "    </tr>\n",
       "    <tr>\n",
       "      <th>3</th>\n",
       "      <td>SRB</td>\n",
       "      <td>Serbia</td>\n",
       "    </tr>\n",
       "    <tr>\n",
       "      <th>4</th>\n",
       "      <td>MNE</td>\n",
       "      <td>Montenegro</td>\n",
       "    </tr>\n",
       "    <tr>\n",
       "      <th>5</th>\n",
       "      <td>KOS</td>\n",
       "      <td>Kosovo</td>\n",
       "    </tr>\n",
       "    <tr>\n",
       "      <th>6</th>\n",
       "      <td>AND</td>\n",
       "      <td>Andorra</td>\n",
       "    </tr>\n",
       "    <tr>\n",
       "      <th>7</th>\n",
       "      <td>F</td>\n",
       "      <td>France</td>\n",
       "    </tr>\n",
       "    <tr>\n",
       "      <th>8</th>\n",
       "      <td>E</td>\n",
       "      <td>Spain</td>\n",
       "    </tr>\n",
       "    <tr>\n",
       "      <th>9</th>\n",
       "      <td>A</td>\n",
       "      <td>Austria</td>\n",
       "    </tr>\n",
       "  </tbody>\n",
       "</table>\n",
       "</div>"
      ],
      "text/plain": [
       "  code     country\n",
       "0   AL     Albania\n",
       "1   GR      Greece\n",
       "2   MK   Macedonia\n",
       "3  SRB      Serbia\n",
       "4  MNE  Montenegro\n",
       "5  KOS      Kosovo\n",
       "6  AND     Andorra\n",
       "7    F      France\n",
       "8    E       Spain\n",
       "9    A     Austria"
      ]
     },
     "execution_count": 136,
     "metadata": {},
     "output_type": "execute_result"
    }
   ],
   "source": [
    "document = ET.parse( './data/mondial_database.xml' )\n",
    "# create a lookup table for country codes\n",
    "car_codes = {'country':[], 'code':[]}\n",
    "\n",
    "# extract country info from xml\n",
    "for country in document.findall('country'):\n",
    "    name = ''\n",
    "    code = ''\n",
    "    for node in list(country):\n",
    "        if node.tag == 'name':           \n",
    "            car_codes['country'].append(node.text)\n",
    "            car_codes['code'].append(country.attrib['car_code'])\n",
    "\n",
    "# create a dataframe for the country codes\n",
    "# will be used for merge later\n",
    "countries = pd.DataFrame(car_codes)\n",
    "countries.head(10)"
   ]
  },
  {
   "cell_type": "code",
   "execution_count": 137,
   "metadata": {
    "collapsed": false
   },
   "outputs": [
    {
     "data": {
      "text/html": [
       "<div>\n",
       "<table border=\"1\" class=\"dataframe\">\n",
       "  <thead>\n",
       "    <tr style=\"text-align: right;\">\n",
       "      <th></th>\n",
       "      <th>car_code</th>\n",
       "      <th>length</th>\n",
       "      <th>name</th>\n",
       "    </tr>\n",
       "  </thead>\n",
       "  <tbody>\n",
       "    <tr>\n",
       "      <th>0</th>\n",
       "      <td>IS</td>\n",
       "      <td>230.0</td>\n",
       "      <td>Thjorsa</td>\n",
       "    </tr>\n",
       "    <tr>\n",
       "      <th>1</th>\n",
       "      <td>IS</td>\n",
       "      <td>206.0</td>\n",
       "      <td>Joekulsa a Fjoellum</td>\n",
       "    </tr>\n",
       "    <tr>\n",
       "      <th>2</th>\n",
       "      <td>N</td>\n",
       "      <td>604.0</td>\n",
       "      <td>Glomma</td>\n",
       "    </tr>\n",
       "    <tr>\n",
       "      <th>3</th>\n",
       "      <td>N</td>\n",
       "      <td>322.0</td>\n",
       "      <td>Lagen</td>\n",
       "    </tr>\n",
       "    <tr>\n",
       "      <th>4</th>\n",
       "      <td>S</td>\n",
       "      <td>93.0</td>\n",
       "      <td>Goetaaelv</td>\n",
       "    </tr>\n",
       "    <tr>\n",
       "      <th>5</th>\n",
       "      <td>N</td>\n",
       "      <td>460.0</td>\n",
       "      <td>Klaraelv</td>\n",
       "    </tr>\n",
       "    <tr>\n",
       "      <th>6</th>\n",
       "      <td>S</td>\n",
       "      <td>460.0</td>\n",
       "      <td>Klaraelv</td>\n",
       "    </tr>\n",
       "    <tr>\n",
       "      <th>7</th>\n",
       "      <td>S</td>\n",
       "      <td>470.0</td>\n",
       "      <td>Umeaelv</td>\n",
       "    </tr>\n",
       "    <tr>\n",
       "      <th>8</th>\n",
       "      <td>S</td>\n",
       "      <td>520.0</td>\n",
       "      <td>Dalaelv</td>\n",
       "    </tr>\n",
       "    <tr>\n",
       "      <th>9</th>\n",
       "      <td>S</td>\n",
       "      <td>320.0</td>\n",
       "      <td>Vaesterdalaelv</td>\n",
       "    </tr>\n",
       "  </tbody>\n",
       "</table>\n",
       "</div>"
      ],
      "text/plain": [
       "  car_code  length                 name\n",
       "0       IS   230.0              Thjorsa\n",
       "1       IS   206.0  Joekulsa a Fjoellum\n",
       "2        N   604.0               Glomma\n",
       "3        N   322.0                Lagen\n",
       "4        S    93.0            Goetaaelv\n",
       "5        N   460.0             Klaraelv\n",
       "6        S   460.0             Klaraelv\n",
       "7        S   470.0              Umeaelv\n",
       "8        S   520.0              Dalaelv\n",
       "9        S   320.0       Vaesterdalaelv"
      ]
     },
     "execution_count": 137,
     "metadata": {},
     "output_type": "execute_result"
    }
   ],
   "source": [
    "# create a table for river information\n",
    "river_data = {'car_code':[], 'name':[], 'length':[]}\n",
    "\n",
    "# extract river info from xml\n",
    "for river in document.findall('river'):\n",
    "    \n",
    "    code = river.attrib['country'] # country code, not country name\n",
    "    name = ''\n",
    "    length = 0\n",
    "    for node in list(river):\n",
    "        if node.tag == 'name':           \n",
    "            name = node.text\n",
    "        elif node.tag == 'length':\n",
    "            length = float(node.text)\n",
    "            \n",
    "    if name and code and length:\n",
    "        # only add rivers with known lengths\n",
    "        codes = code.split(' ') # some rivers cross multiple countries\n",
    "        for c in codes:\n",
    "            river_data['car_code'].append(c)\n",
    "            river_data['name'].append(name) # river name\n",
    "            river_data['length'].append(length)\n",
    "\n",
    "# create a dataframe for the rivers\n",
    "rivers = pd.DataFrame(river_data)\n",
    "rivers.head(10)"
   ]
  },
  {
   "cell_type": "code",
   "execution_count": 138,
   "metadata": {
    "collapsed": false
   },
   "outputs": [
    {
     "data": {
      "text/html": [
       "<div>\n",
       "<table border=\"1\" class=\"dataframe\">\n",
       "  <thead>\n",
       "    <tr style=\"text-align: right;\">\n",
       "      <th></th>\n",
       "      <th>area</th>\n",
       "      <th>car_code</th>\n",
       "      <th>name</th>\n",
       "    </tr>\n",
       "  </thead>\n",
       "  <tbody>\n",
       "    <tr>\n",
       "      <th>0</th>\n",
       "      <td>1040.0</td>\n",
       "      <td>SF</td>\n",
       "      <td>Inari</td>\n",
       "    </tr>\n",
       "    <tr>\n",
       "      <th>1</th>\n",
       "      <td>928.0</td>\n",
       "      <td>SF</td>\n",
       "      <td>Oulujaervi</td>\n",
       "    </tr>\n",
       "    <tr>\n",
       "      <th>2</th>\n",
       "      <td>472.0</td>\n",
       "      <td>SF</td>\n",
       "      <td>Kallavesi</td>\n",
       "    </tr>\n",
       "    <tr>\n",
       "      <th>3</th>\n",
       "      <td>4370.0</td>\n",
       "      <td>SF</td>\n",
       "      <td>Saimaa</td>\n",
       "    </tr>\n",
       "    <tr>\n",
       "      <th>4</th>\n",
       "      <td>1118.0</td>\n",
       "      <td>SF</td>\n",
       "      <td>Paeijaenne</td>\n",
       "    </tr>\n",
       "    <tr>\n",
       "      <th>5</th>\n",
       "      <td>368.0</td>\n",
       "      <td>N</td>\n",
       "      <td>Mjoesa-See</td>\n",
       "    </tr>\n",
       "    <tr>\n",
       "      <th>6</th>\n",
       "      <td>173.0</td>\n",
       "      <td>S</td>\n",
       "      <td>Storuman</td>\n",
       "    </tr>\n",
       "    <tr>\n",
       "      <th>7</th>\n",
       "      <td>290.0</td>\n",
       "      <td>S</td>\n",
       "      <td>Siljan</td>\n",
       "    </tr>\n",
       "    <tr>\n",
       "      <th>8</th>\n",
       "      <td>1140.0</td>\n",
       "      <td>S</td>\n",
       "      <td>Maelaren</td>\n",
       "    </tr>\n",
       "    <tr>\n",
       "      <th>9</th>\n",
       "      <td>5648.0</td>\n",
       "      <td>S</td>\n",
       "      <td>Vaenern</td>\n",
       "    </tr>\n",
       "  </tbody>\n",
       "</table>\n",
       "</div>"
      ],
      "text/plain": [
       "     area car_code        name\n",
       "0  1040.0       SF       Inari\n",
       "1   928.0       SF  Oulujaervi\n",
       "2   472.0       SF   Kallavesi\n",
       "3  4370.0       SF      Saimaa\n",
       "4  1118.0       SF  Paeijaenne\n",
       "5   368.0        N  Mjoesa-See\n",
       "6   173.0        S    Storuman\n",
       "7   290.0        S      Siljan\n",
       "8  1140.0        S    Maelaren\n",
       "9  5648.0        S     Vaenern"
      ]
     },
     "execution_count": 138,
     "metadata": {},
     "output_type": "execute_result"
    }
   ],
   "source": [
    "# create a table for lake information\n",
    "lake_data = {'car_code':[], 'name':[], 'area':[]}\n",
    "\n",
    "# extract lake info from xml\n",
    "for river in document.findall('lake'):\n",
    "   \n",
    "    code = river.attrib['country'] # country code, not country name\n",
    "    name = ''\n",
    "    area = 0\n",
    "    for node in list(river):\n",
    "        if node.tag == 'name':           \n",
    "            name = node.text\n",
    "        elif node.tag == 'area':\n",
    "            area = float(node.text)\n",
    "            \n",
    "    if name and code and area:\n",
    "        # only add lakes with known areas\n",
    "        codes = code.split(' ') # some lakes cross multiple countries\n",
    "        for c in codes:\n",
    "            lake_data['car_code'].append(c)\n",
    "            lake_data['name'].append(name) # lake name\n",
    "            lake_data['area'].append(area)\n",
    "\n",
    "# create a dataframe for the lakes\n",
    "lakes = pd.DataFrame(lake_data)\n",
    "lakes.head(10)"
   ]
  },
  {
   "cell_type": "code",
   "execution_count": 139,
   "metadata": {
    "collapsed": false
   },
   "outputs": [
    {
     "data": {
      "text/html": [
       "<div>\n",
       "<table border=\"1\" class=\"dataframe\">\n",
       "  <thead>\n",
       "    <tr style=\"text-align: right;\">\n",
       "      <th></th>\n",
       "      <th>car_code</th>\n",
       "      <th>elevation</th>\n",
       "      <th>name</th>\n",
       "    </tr>\n",
       "  </thead>\n",
       "  <tbody>\n",
       "    <tr>\n",
       "      <th>0</th>\n",
       "      <td>AFG</td>\n",
       "      <td>977.0</td>\n",
       "      <td>Herat</td>\n",
       "    </tr>\n",
       "    <tr>\n",
       "      <th>1</th>\n",
       "      <td>AFG</td>\n",
       "      <td>1792.0</td>\n",
       "      <td>Kabul Intl</td>\n",
       "    </tr>\n",
       "    <tr>\n",
       "      <th>2</th>\n",
       "      <td>AL</td>\n",
       "      <td>38.0</td>\n",
       "      <td>Tirana Rinas</td>\n",
       "    </tr>\n",
       "    <tr>\n",
       "      <th>3</th>\n",
       "      <td>DZ</td>\n",
       "      <td>811.0</td>\n",
       "      <td>Cheikh Larbi Tebessi</td>\n",
       "    </tr>\n",
       "    <tr>\n",
       "      <th>4</th>\n",
       "      <td>DZ</td>\n",
       "      <td>822.0</td>\n",
       "      <td>Batna Airport</td>\n",
       "    </tr>\n",
       "    <tr>\n",
       "      <th>5</th>\n",
       "      <td>DZ</td>\n",
       "      <td>6.0</td>\n",
       "      <td>Soummam</td>\n",
       "    </tr>\n",
       "    <tr>\n",
       "      <th>6</th>\n",
       "      <td>DZ</td>\n",
       "      <td>1377.0</td>\n",
       "      <td>Tamanrasset</td>\n",
       "    </tr>\n",
       "    <tr>\n",
       "      <th>7</th>\n",
       "      <td>DZ</td>\n",
       "      <td>88.0</td>\n",
       "      <td>Biskra</td>\n",
       "    </tr>\n",
       "    <tr>\n",
       "      <th>8</th>\n",
       "      <td>DZ</td>\n",
       "      <td>691.0</td>\n",
       "      <td>Mohamed Boudiaf Intl</td>\n",
       "    </tr>\n",
       "    <tr>\n",
       "      <th>9</th>\n",
       "      <td>DZ</td>\n",
       "      <td>1024.0</td>\n",
       "      <td>Ain Arnat Airport</td>\n",
       "    </tr>\n",
       "  </tbody>\n",
       "</table>\n",
       "</div>"
      ],
      "text/plain": [
       "  car_code  elevation                  name\n",
       "0      AFG      977.0                 Herat\n",
       "1      AFG     1792.0            Kabul Intl\n",
       "2       AL       38.0          Tirana Rinas\n",
       "3       DZ      811.0  Cheikh Larbi Tebessi\n",
       "4       DZ      822.0         Batna Airport\n",
       "5       DZ        6.0               Soummam\n",
       "6       DZ     1377.0           Tamanrasset\n",
       "7       DZ       88.0                Biskra\n",
       "8       DZ      691.0  Mohamed Boudiaf Intl\n",
       "9       DZ     1024.0     Ain Arnat Airport"
      ]
     },
     "execution_count": 139,
     "metadata": {},
     "output_type": "execute_result"
    }
   ],
   "source": [
    "\n",
    "# create a table for airport information\n",
    "airport_data = {'car_code':[], 'name':[], 'elevation':[]}\n",
    "\n",
    "# extract airport info from xml\n",
    "for airport in document.findall('airport'):\n",
    "   \n",
    "    code = airport.attrib['country'] # country code, not country name\n",
    "    name = ''\n",
    "    elev = 0\n",
    "    for node in list(airport):\n",
    "        if node.tag == 'name':           \n",
    "            name = node.text\n",
    "        elif node.tag == 'elevation':\n",
    "            if node.text is not None:\n",
    "                elev = float(node.text)\n",
    "            \n",
    "    if name and code and elev:\n",
    "        # only add lakes with known areas\n",
    "        #codes = code.split(' ') # some lakes cross multiple countries\n",
    "        #for c in codes:\n",
    "        airport_data['car_code'].append(code)\n",
    "        airport_data['name'].append(name) # airport name\n",
    "        airport_data['elevation'].append(elev)\n",
    "\n",
    "# create a dataframe for the lakes\n",
    "airports = pd.DataFrame(airport_data)\n",
    "airports.head(10)"
   ]
  },
  {
   "cell_type": "code",
   "execution_count": 135,
   "metadata": {
    "collapsed": false
   },
   "outputs": [
    {
     "ename": "KeyError",
     "evalue": "0.0",
     "output_type": "error",
     "traceback": [
      "\u001b[1;31m---------------------------------------------------------------------------\u001b[0m",
      "\u001b[1;31mKeyError\u001b[0m                                  Traceback (most recent call last)",
      "\u001b[1;32mC:\\Anaconda3\\lib\\site-packages\\pandas\\indexes\\base.py\u001b[0m in \u001b[0;36mget_loc\u001b[1;34m(self, key, method, tolerance)\u001b[0m\n\u001b[0;32m   1875\u001b[0m             \u001b[1;32mtry\u001b[0m\u001b[1;33m:\u001b[0m\u001b[1;33m\u001b[0m\u001b[0m\n\u001b[1;32m-> 1876\u001b[1;33m                 \u001b[1;32mreturn\u001b[0m \u001b[0mself\u001b[0m\u001b[1;33m.\u001b[0m\u001b[0m_engine\u001b[0m\u001b[1;33m.\u001b[0m\u001b[0mget_loc\u001b[0m\u001b[1;33m(\u001b[0m\u001b[0mkey\u001b[0m\u001b[1;33m)\u001b[0m\u001b[1;33m\u001b[0m\u001b[0m\n\u001b[0m\u001b[0;32m   1877\u001b[0m             \u001b[1;32mexcept\u001b[0m \u001b[0mKeyError\u001b[0m\u001b[1;33m:\u001b[0m\u001b[1;33m\u001b[0m\u001b[0m\n",
      "\u001b[1;32mpandas\\index.pyx\u001b[0m in \u001b[0;36mpandas.index.IndexEngine.get_loc (pandas\\index.c:4027)\u001b[1;34m()\u001b[0m\n",
      "\u001b[1;32mpandas\\index.pyx\u001b[0m in \u001b[0;36mpandas.index.IndexEngine.get_loc (pandas\\index.c:3891)\u001b[1;34m()\u001b[0m\n",
      "\u001b[1;32mpandas\\hashtable.pyx\u001b[0m in \u001b[0;36mpandas.hashtable.Float64HashTable.get_item (pandas\\hashtable.c:9649)\u001b[1;34m()\u001b[0m\n",
      "\u001b[1;32mpandas\\hashtable.pyx\u001b[0m in \u001b[0;36mpandas.hashtable.Float64HashTable.get_item (pandas\\hashtable.c:9587)\u001b[1;34m()\u001b[0m\n",
      "\u001b[1;31mKeyError\u001b[0m: 0.0",
      "\nDuring handling of the above exception, another exception occurred:\n",
      "\u001b[1;31mKeyError\u001b[0m                                  Traceback (most recent call last)",
      "\u001b[1;32m<ipython-input-135-4a7437c91d41>\u001b[0m in \u001b[0;36m<module>\u001b[1;34m()\u001b[0m\n\u001b[0;32m      4\u001b[0m \u001b[1;31m# find the longest river\u001b[0m\u001b[1;33m\u001b[0m\u001b[1;33m\u001b[0m\u001b[0m\n\u001b[0;32m      5\u001b[0m \u001b[0mgrouped\u001b[0m \u001b[1;33m=\u001b[0m \u001b[0mdf\u001b[0m\u001b[1;33m.\u001b[0m\u001b[0mgroupby\u001b[0m\u001b[1;33m(\u001b[0m\u001b[1;33m[\u001b[0m\u001b[1;34m'name'\u001b[0m\u001b[1;33m]\u001b[0m\u001b[1;33m)\u001b[0m\u001b[1;33m[\u001b[0m\u001b[1;33m[\u001b[0m\u001b[1;34m'length'\u001b[0m\u001b[1;33m]\u001b[0m\u001b[1;33m]\u001b[0m\u001b[1;33m.\u001b[0m\u001b[0mmax\u001b[0m\u001b[1;33m(\u001b[0m\u001b[1;33m)\u001b[0m\u001b[1;33m\u001b[0m\u001b[0m\n\u001b[1;32m----> 6\u001b[1;33m \u001b[0mlongest\u001b[0m \u001b[1;33m=\u001b[0m \u001b[0mgrouped\u001b[0m\u001b[1;33m.\u001b[0m\u001b[0msort_values\u001b[0m\u001b[1;33m(\u001b[0m\u001b[1;34m'length'\u001b[0m\u001b[1;33m,\u001b[0m \u001b[0mascending\u001b[0m\u001b[1;33m=\u001b[0m\u001b[1;32mFalse\u001b[0m\u001b[1;33m)\u001b[0m\u001b[1;33m.\u001b[0m\u001b[0mix\u001b[0m\u001b[1;33m[\u001b[0m\u001b[1;36m0\u001b[0m\u001b[1;33m]\u001b[0m\u001b[1;33m\u001b[0m\u001b[0m\n\u001b[0m\u001b[0;32m      7\u001b[0m \u001b[1;33m\u001b[0m\u001b[0m\n\u001b[0;32m      8\u001b[0m \u001b[1;31m# display info on longest river\u001b[0m\u001b[1;33m\u001b[0m\u001b[1;33m\u001b[0m\u001b[0m\n",
      "\u001b[1;32mC:\\Anaconda3\\lib\\site-packages\\pandas\\core\\indexing.py\u001b[0m in \u001b[0;36m__getitem__\u001b[1;34m(self, key)\u001b[0m\n\u001b[0;32m     76\u001b[0m             \u001b[1;32mreturn\u001b[0m \u001b[0mself\u001b[0m\u001b[1;33m.\u001b[0m\u001b[0m_getitem_tuple\u001b[0m\u001b[1;33m(\u001b[0m\u001b[0mkey\u001b[0m\u001b[1;33m)\u001b[0m\u001b[1;33m\u001b[0m\u001b[0m\n\u001b[0;32m     77\u001b[0m         \u001b[1;32melse\u001b[0m\u001b[1;33m:\u001b[0m\u001b[1;33m\u001b[0m\u001b[0m\n\u001b[1;32m---> 78\u001b[1;33m             \u001b[1;32mreturn\u001b[0m \u001b[0mself\u001b[0m\u001b[1;33m.\u001b[0m\u001b[0m_getitem_axis\u001b[0m\u001b[1;33m(\u001b[0m\u001b[0mkey\u001b[0m\u001b[1;33m,\u001b[0m \u001b[0maxis\u001b[0m\u001b[1;33m=\u001b[0m\u001b[1;36m0\u001b[0m\u001b[1;33m)\u001b[0m\u001b[1;33m\u001b[0m\u001b[0m\n\u001b[0m\u001b[0;32m     79\u001b[0m \u001b[1;33m\u001b[0m\u001b[0m\n\u001b[0;32m     80\u001b[0m     \u001b[1;32mdef\u001b[0m \u001b[0m_get_label\u001b[0m\u001b[1;33m(\u001b[0m\u001b[0mself\u001b[0m\u001b[1;33m,\u001b[0m \u001b[0mlabel\u001b[0m\u001b[1;33m,\u001b[0m \u001b[0maxis\u001b[0m\u001b[1;33m=\u001b[0m\u001b[1;36m0\u001b[0m\u001b[1;33m)\u001b[0m\u001b[1;33m:\u001b[0m\u001b[1;33m\u001b[0m\u001b[0m\n",
      "\u001b[1;32mC:\\Anaconda3\\lib\\site-packages\\pandas\\core\\indexing.py\u001b[0m in \u001b[0;36m_getitem_axis\u001b[1;34m(self, key, axis)\u001b[0m\n\u001b[0;32m   1012\u001b[0m                     \u001b[1;32mreturn\u001b[0m \u001b[0mself\u001b[0m\u001b[1;33m.\u001b[0m\u001b[0m_get_loc\u001b[0m\u001b[1;33m(\u001b[0m\u001b[0mkey\u001b[0m\u001b[1;33m,\u001b[0m \u001b[0maxis\u001b[0m\u001b[1;33m=\u001b[0m\u001b[0maxis\u001b[0m\u001b[1;33m)\u001b[0m\u001b[1;33m\u001b[0m\u001b[0m\n\u001b[0;32m   1013\u001b[0m \u001b[1;33m\u001b[0m\u001b[0m\n\u001b[1;32m-> 1014\u001b[1;33m             \u001b[1;32mreturn\u001b[0m \u001b[0mself\u001b[0m\u001b[1;33m.\u001b[0m\u001b[0m_get_label\u001b[0m\u001b[1;33m(\u001b[0m\u001b[0mkey\u001b[0m\u001b[1;33m,\u001b[0m \u001b[0maxis\u001b[0m\u001b[1;33m=\u001b[0m\u001b[0maxis\u001b[0m\u001b[1;33m)\u001b[0m\u001b[1;33m\u001b[0m\u001b[0m\n\u001b[0m\u001b[0;32m   1015\u001b[0m \u001b[1;33m\u001b[0m\u001b[0m\n\u001b[0;32m   1016\u001b[0m     \u001b[1;32mdef\u001b[0m \u001b[0m_getitem_iterable\u001b[0m\u001b[1;33m(\u001b[0m\u001b[0mself\u001b[0m\u001b[1;33m,\u001b[0m \u001b[0mkey\u001b[0m\u001b[1;33m,\u001b[0m \u001b[0maxis\u001b[0m\u001b[1;33m=\u001b[0m\u001b[1;36m0\u001b[0m\u001b[1;33m)\u001b[0m\u001b[1;33m:\u001b[0m\u001b[1;33m\u001b[0m\u001b[0m\n",
      "\u001b[1;32mC:\\Anaconda3\\lib\\site-packages\\pandas\\core\\indexing.py\u001b[0m in \u001b[0;36m_get_label\u001b[1;34m(self, label, axis)\u001b[0m\n\u001b[0;32m     91\u001b[0m             \u001b[1;32mraise\u001b[0m \u001b[0mIndexingError\u001b[0m\u001b[1;33m(\u001b[0m\u001b[1;34m'no slices here, handle elsewhere'\u001b[0m\u001b[1;33m)\u001b[0m\u001b[1;33m\u001b[0m\u001b[0m\n\u001b[0;32m     92\u001b[0m \u001b[1;33m\u001b[0m\u001b[0m\n\u001b[1;32m---> 93\u001b[1;33m         \u001b[1;32mreturn\u001b[0m \u001b[0mself\u001b[0m\u001b[1;33m.\u001b[0m\u001b[0mobj\u001b[0m\u001b[1;33m.\u001b[0m\u001b[0m_xs\u001b[0m\u001b[1;33m(\u001b[0m\u001b[0mlabel\u001b[0m\u001b[1;33m,\u001b[0m \u001b[0maxis\u001b[0m\u001b[1;33m=\u001b[0m\u001b[0maxis\u001b[0m\u001b[1;33m)\u001b[0m\u001b[1;33m\u001b[0m\u001b[0m\n\u001b[0m\u001b[0;32m     94\u001b[0m \u001b[1;33m\u001b[0m\u001b[0m\n\u001b[0;32m     95\u001b[0m     \u001b[1;32mdef\u001b[0m \u001b[0m_get_loc\u001b[0m\u001b[1;33m(\u001b[0m\u001b[0mself\u001b[0m\u001b[1;33m,\u001b[0m \u001b[0mkey\u001b[0m\u001b[1;33m,\u001b[0m \u001b[0maxis\u001b[0m\u001b[1;33m=\u001b[0m\u001b[1;36m0\u001b[0m\u001b[1;33m)\u001b[0m\u001b[1;33m:\u001b[0m\u001b[1;33m\u001b[0m\u001b[0m\n",
      "\u001b[1;32mC:\\Anaconda3\\lib\\site-packages\\pandas\\core\\generic.py\u001b[0m in \u001b[0;36mxs\u001b[1;34m(self, key, axis, level, copy, drop_level)\u001b[0m\n\u001b[0;32m   1742\u001b[0m                                                       drop_level=drop_level)\n\u001b[0;32m   1743\u001b[0m         \u001b[1;32melse\u001b[0m\u001b[1;33m:\u001b[0m\u001b[1;33m\u001b[0m\u001b[0m\n\u001b[1;32m-> 1744\u001b[1;33m             \u001b[0mloc\u001b[0m \u001b[1;33m=\u001b[0m \u001b[0mself\u001b[0m\u001b[1;33m.\u001b[0m\u001b[0mindex\u001b[0m\u001b[1;33m.\u001b[0m\u001b[0mget_loc\u001b[0m\u001b[1;33m(\u001b[0m\u001b[0mkey\u001b[0m\u001b[1;33m)\u001b[0m\u001b[1;33m\u001b[0m\u001b[0m\n\u001b[0m\u001b[0;32m   1745\u001b[0m \u001b[1;33m\u001b[0m\u001b[0m\n\u001b[0;32m   1746\u001b[0m             \u001b[1;32mif\u001b[0m \u001b[0misinstance\u001b[0m\u001b[1;33m(\u001b[0m\u001b[0mloc\u001b[0m\u001b[1;33m,\u001b[0m \u001b[0mnp\u001b[0m\u001b[1;33m.\u001b[0m\u001b[0mndarray\u001b[0m\u001b[1;33m)\u001b[0m\u001b[1;33m:\u001b[0m\u001b[1;33m\u001b[0m\u001b[0m\n",
      "\u001b[1;32mC:\\Anaconda3\\lib\\site-packages\\pandas\\indexes\\numeric.py\u001b[0m in \u001b[0;36mget_loc\u001b[1;34m(self, key, method, tolerance)\u001b[0m\n\u001b[0;32m    368\u001b[0m             \u001b[1;32mpass\u001b[0m\u001b[1;33m\u001b[0m\u001b[0m\n\u001b[0;32m    369\u001b[0m         return super(Float64Index, self).get_loc(key, method=method,\n\u001b[1;32m--> 370\u001b[1;33m                                                  tolerance=tolerance)\n\u001b[0m\u001b[0;32m    371\u001b[0m \u001b[1;33m\u001b[0m\u001b[0m\n\u001b[0;32m    372\u001b[0m     \u001b[1;33m@\u001b[0m\u001b[0mproperty\u001b[0m\u001b[1;33m\u001b[0m\u001b[0m\n",
      "\u001b[1;32mC:\\Anaconda3\\lib\\site-packages\\pandas\\indexes\\base.py\u001b[0m in \u001b[0;36mget_loc\u001b[1;34m(self, key, method, tolerance)\u001b[0m\n\u001b[0;32m   1876\u001b[0m                 \u001b[1;32mreturn\u001b[0m \u001b[0mself\u001b[0m\u001b[1;33m.\u001b[0m\u001b[0m_engine\u001b[0m\u001b[1;33m.\u001b[0m\u001b[0mget_loc\u001b[0m\u001b[1;33m(\u001b[0m\u001b[0mkey\u001b[0m\u001b[1;33m)\u001b[0m\u001b[1;33m\u001b[0m\u001b[0m\n\u001b[0;32m   1877\u001b[0m             \u001b[1;32mexcept\u001b[0m \u001b[0mKeyError\u001b[0m\u001b[1;33m:\u001b[0m\u001b[1;33m\u001b[0m\u001b[0m\n\u001b[1;32m-> 1878\u001b[1;33m                 \u001b[1;32mreturn\u001b[0m \u001b[0mself\u001b[0m\u001b[1;33m.\u001b[0m\u001b[0m_engine\u001b[0m\u001b[1;33m.\u001b[0m\u001b[0mget_loc\u001b[0m\u001b[1;33m(\u001b[0m\u001b[0mself\u001b[0m\u001b[1;33m.\u001b[0m\u001b[0m_maybe_cast_indexer\u001b[0m\u001b[1;33m(\u001b[0m\u001b[0mkey\u001b[0m\u001b[1;33m)\u001b[0m\u001b[1;33m)\u001b[0m\u001b[1;33m\u001b[0m\u001b[0m\n\u001b[0m\u001b[0;32m   1879\u001b[0m \u001b[1;33m\u001b[0m\u001b[0m\n\u001b[0;32m   1880\u001b[0m         \u001b[0mindexer\u001b[0m \u001b[1;33m=\u001b[0m \u001b[0mself\u001b[0m\u001b[1;33m.\u001b[0m\u001b[0mget_indexer\u001b[0m\u001b[1;33m(\u001b[0m\u001b[1;33m[\u001b[0m\u001b[0mkey\u001b[0m\u001b[1;33m]\u001b[0m\u001b[1;33m,\u001b[0m \u001b[0mmethod\u001b[0m\u001b[1;33m=\u001b[0m\u001b[0mmethod\u001b[0m\u001b[1;33m,\u001b[0m \u001b[0mtolerance\u001b[0m\u001b[1;33m=\u001b[0m\u001b[0mtolerance\u001b[0m\u001b[1;33m)\u001b[0m\u001b[1;33m\u001b[0m\u001b[0m\n",
      "\u001b[1;32mpandas\\index.pyx\u001b[0m in \u001b[0;36mpandas.index.IndexEngine.get_loc (pandas\\index.c:4027)\u001b[1;34m()\u001b[0m\n",
      "\u001b[1;32mpandas\\index.pyx\u001b[0m in \u001b[0;36mpandas.index.IndexEngine.get_loc (pandas\\index.c:3891)\u001b[1;34m()\u001b[0m\n",
      "\u001b[1;32mpandas\\hashtable.pyx\u001b[0m in \u001b[0;36mpandas.hashtable.Float64HashTable.get_item (pandas\\hashtable.c:9649)\u001b[1;34m()\u001b[0m\n",
      "\u001b[1;32mpandas\\hashtable.pyx\u001b[0m in \u001b[0;36mpandas.hashtable.Float64HashTable.get_item (pandas\\hashtable.c:9587)\u001b[1;34m()\u001b[0m\n",
      "\u001b[1;31mKeyError\u001b[0m: 0.0"
     ]
    }
   ],
   "source": [
    "# merge the river and country tables\n",
    "df = pd.merge(rivers, countries, how='left', left_on='car_code', right_on='code')\n",
    "\n",
    "# find the longest river\n",
    "grouped = df.groupby(['name'])[['length']].max()\n",
    "longest = grouped.sort_values('length', ascending=False).ix[0]\n",
    "\n",
    "# display info on longest river\n",
    "print('Longest River:')\n",
    "df[df.name == longest.name][['name','country','length']]"
   ]
  },
  {
   "cell_type": "code",
   "execution_count": 141,
   "metadata": {
    "collapsed": false
   },
   "outputs": [
    {
     "name": "stdout",
     "output_type": "stream",
     "text": [
      "Largest Lake:\n",
      "\n"
     ]
    },
    {
     "name": "stderr",
     "output_type": "stream",
     "text": [
      "C:\\Anaconda3\\lib\\site-packages\\ipykernel\\__main__.py:6: FutureWarning: sort(columns=....) is deprecated, use sort_values(by=.....)\n"
     ]
    },
    {
     "data": {
      "text/html": [
       "<div>\n",
       "<table border=\"1\" class=\"dataframe\">\n",
       "  <thead>\n",
       "    <tr style=\"text-align: right;\">\n",
       "      <th></th>\n",
       "      <th>name</th>\n",
       "      <th>country</th>\n",
       "      <th>area</th>\n",
       "    </tr>\n",
       "  </thead>\n",
       "  <tbody>\n",
       "    <tr>\n",
       "      <th>68</th>\n",
       "      <td>Caspian Sea</td>\n",
       "      <td>Russia</td>\n",
       "      <td>386400.0</td>\n",
       "    </tr>\n",
       "    <tr>\n",
       "      <th>69</th>\n",
       "      <td>Caspian Sea</td>\n",
       "      <td>Azerbaijan</td>\n",
       "      <td>386400.0</td>\n",
       "    </tr>\n",
       "    <tr>\n",
       "      <th>70</th>\n",
       "      <td>Caspian Sea</td>\n",
       "      <td>Kazakhstan</td>\n",
       "      <td>386400.0</td>\n",
       "    </tr>\n",
       "    <tr>\n",
       "      <th>71</th>\n",
       "      <td>Caspian Sea</td>\n",
       "      <td>Iran</td>\n",
       "      <td>386400.0</td>\n",
       "    </tr>\n",
       "    <tr>\n",
       "      <th>72</th>\n",
       "      <td>Caspian Sea</td>\n",
       "      <td>Turkmenistan</td>\n",
       "      <td>386400.0</td>\n",
       "    </tr>\n",
       "  </tbody>\n",
       "</table>\n",
       "</div>"
      ],
      "text/plain": [
       "           name       country      area\n",
       "68  Caspian Sea        Russia  386400.0\n",
       "69  Caspian Sea    Azerbaijan  386400.0\n",
       "70  Caspian Sea    Kazakhstan  386400.0\n",
       "71  Caspian Sea          Iran  386400.0\n",
       "72  Caspian Sea  Turkmenistan  386400.0"
      ]
     },
     "execution_count": 141,
     "metadata": {},
     "output_type": "execute_result"
    }
   ],
   "source": [
    "# merge the lake and country tables\n",
    "df = pd.merge(lakes, countries, how='left', left_on='car_code', right_on='code')\n",
    "\n",
    "# find the longest river\n",
    "grouped = df.groupby(['name'])[['area']].max()\n",
    "largest = grouped.sort('area', ascending=False).ix[0].name\n",
    "\n",
    "# display info on longest river\n",
    "print('Largest Lake:\\n')\n",
    "df[df.name == largest][['name','country','area']]"
   ]
  },
  {
   "cell_type": "code",
   "execution_count": 144,
   "metadata": {
    "collapsed": false
   },
   "outputs": [
    {
     "name": "stdout",
     "output_type": "stream",
     "text": [
      "Highest Airport:\n",
      "El Alto Intl in Bolivia, Elevation: 4063 m\n"
     ]
    },
    {
     "name": "stderr",
     "output_type": "stream",
     "text": [
      "C:\\Anaconda3\\lib\\site-packages\\ipykernel\\__main__.py:6: FutureWarning: sort(columns=....) is deprecated, use sort_values(by=.....)\n"
     ]
    }
   ],
   "source": [
    "# merge the airport and country tables\n",
    "df = pd.merge(airports, countries, how='left', left_on='car_code', right_on='code')\n",
    "\n",
    "# find the highest airport\n",
    "grouped = df.groupby(['name'])[['elevation']].max()\n",
    "highest = grouped.sort('elevation', ascending=False).iloc[0].name\n",
    "\n",
    "# display info on highest airport\n",
    "airport = df[df.name == highest].iloc[0]\n",
    "airport\n",
    "\n",
    "print('Highest Airport:')\n",
    "print('%s in %s, Elevation: %d m' % (airport['name'], airport.country, airport.elevation))"
   ]
  },
  {
   "cell_type": "code",
   "execution_count": null,
   "metadata": {
    "collapsed": true
   },
   "outputs": [],
   "source": []
  }
 ],
 "metadata": {
  "kernelspec": {
   "display_name": "Python 3",
   "language": "python",
   "name": "python3"
  },
  "language_info": {
   "codemirror_mode": {
    "name": "ipython",
    "version": 3
   },
   "file_extension": ".py",
   "mimetype": "text/x-python",
   "name": "python",
   "nbconvert_exporter": "python",
   "pygments_lexer": "ipython3",
   "version": "3.5.1"
  }
 },
 "nbformat": 4,
 "nbformat_minor": 0
}
